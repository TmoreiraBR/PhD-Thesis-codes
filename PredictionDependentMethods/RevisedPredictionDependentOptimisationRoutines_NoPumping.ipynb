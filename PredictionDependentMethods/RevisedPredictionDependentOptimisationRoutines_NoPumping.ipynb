{
 "cells": [
  {
   "cell_type": "code",
   "execution_count": 85,
   "metadata": {},
   "outputs": [],
   "source": [
    "import pandas as pd \n",
    "import matplotlib.pyplot as plt\n",
    "import numpy as np\n",
    "from numpy import genfromtxt\n",
    "import matplotlib\n",
    "import matplotlib.pyplot as plot\n",
    "from IPython.display import clear_output\n",
    "import math\n",
    "import random\n",
    "from collections import namedtuple\n",
    "from itertools import count"
   ]
  },
  {
   "cell_type": "markdown",
   "metadata": {},
   "source": [
    "# Prediction-Dependent Optimisation Routines"
   ]
  },
  {
   "cell_type": "markdown",
   "metadata": {},
   "source": [
    "This notebook uses the Swansea Bay Tidal Lagoon project as a Case Study for all optimisation routines.\n",
    "\n",
    "For all analysis, ocean measurements and predictions are taken from BODC (British Oceanographic Data Center).\n",
    "\n",
    "All optimisations are energy-oriented."
   ]
  },
  {
   "cell_type": "markdown",
   "metadata": {},
   "source": [
    "# 0D Tidal Lagoon Model"
   ]
  },
  {
   "cell_type": "markdown",
   "metadata": {},
   "source": [
    "Variable Lagoon Area Al"
   ]
  },
  {
   "cell_type": "code",
   "execution_count": 136,
   "metadata": {},
   "outputs": [
    {
     "data": {
      "image/png": "[encoded data removed]",
      "text/plain": [
       "<Figure size 432x288 with 1 Axes>"
      ]
     },
     "metadata": {
      "needs_background": "light"
     },
     "output_type": "display_data"
    }
   ],
   "source": [
    "# import lagoon area as a function of bathymetry - Swansea Bay Tidal Lagoon model.\n",
    "Al = np.genfromtxt('_wansea.csv', delimiter=',')\n",
    "\n",
    "fig, ax1 = plt.subplots()\n",
    "\n",
    "ax1.set_xlabel('Water Level (m)')\n",
    "ax1.set_ylabel('Lagoon Area (km2)')\n",
    "ax1.set_title('Swansea Lagoon Wetted Area')\n",
    "ax1.plot(Al[:,0], Al[:,1])\n",
    "ax1.tick_params(axis='y')"
   ]
  },
  {
   "cell_type": "markdown",
   "metadata": {},
   "source": [
    "Functions for simulating turbine operation (power generation and idling modes) and sluice gates.\n",
    "\n",
    "All models assume 1 min. time-step (Minscale = 60 used for data convertion x/s to x/min)."
   ]
  },
  {
   "cell_type": "code",
   "execution_count": 137,
   "metadata": {},
   "outputs": [],
   "source": [
    "# Andritz Turbine Eq.\n",
    "def PowerGen(g,rho,nt,Sp,Dt,To,CE,Ca, head, nTurb, MinScale, top):\n",
    "  if (np.abs(head) >= 1 and top == \"powerGen\"): # Minimum head of 1m for Power Gen.\n",
    "    n11 = Sp*Dt/np.sqrt(np.abs(head));\n",
    "    if n11 <= 255: # Should there be a lower limit?\n",
    "      Q11 = 0.017*n11 + 0.49;\n",
    "    elif n11 > 255:\n",
    "      Q11 = 4.75;\n",
    "    Eff = (-0.0019*n11 + 1.2461)*CE; # Turbine Efficiency\n",
    "    if Eff <=0:\n",
    "      Eff = 0;\n",
    "    elif Eff >= .95:\n",
    "      Eff = .95;\n",
    "    if (To == 1): # Flood Orientation\n",
    "      if head < 0: # Ebb Gen\n",
    "        Eff = 0.90*Eff;\n",
    "    elif(To == 2): # Ebb Orientation\n",
    "      if head > 0: # Flood Gen\n",
    "        Eff = 0.90*Eff;\n",
    "    Qt = nt*np.sign(head)*Q11*Dt**2*np.sqrt(np.abs(head)); # Andritz chart\n",
    "    Pow = np.abs(rho*g*head*Qt)*Eff;\n",
    "    if (Ca != 0) and (Pow > nt*Ca):\n",
    "      POW = nt*Ca # Ca = turbine capacity (20MW for the Swansea Lagoon)\n",
    "      QT = np.sign(head)*POW/(rho*g*np.abs(head)*Eff) # Dividing by Eff increases flow-rate above Ca (conservative)\n",
    "    else:\n",
    "      POW = Pow\n",
    "      QT = Qt\n",
    "    QTc = QT * MinScale;\n",
    "    En = POW * MinScale * 10**-6; # Conversão para MJ\n",
    "  else:\n",
    "    QTc = 0;\n",
    "    En = 0;\n",
    "  return QTc, En"
   ]
  },
  {
   "cell_type": "code",
   "execution_count": 88,
   "metadata": {},
   "outputs": [],
   "source": [
    "# Orifice Eq.\n",
    "def idling(g,rho,head,At,nt,CDt,sop,MinScale):\n",
    "  if (sop == \"sluicing\"):\n",
    "    Qs = nt*np.sign(head)*CDt*At*np.sqrt(2*g*np.abs(head))\n",
    "  else:\n",
    "    Qs = 0\n",
    "  return Qs* MinScale"
   ]
  },
  {
   "cell_type": "code",
   "execution_count": 89,
   "metadata": {},
   "outputs": [],
   "source": [
    "# Orifice Eq.\n",
    "def sluices(g,rho,head,As,CD,sop,MinScale):\n",
    "  if (sop == \"sluicing\"):\n",
    "    Qs = np.sign(head)*CD*As*np.sqrt(2*g*np.abs(head))\n",
    "  else:\n",
    "    Qs = 0\n",
    "  return Qs* MinScale"
   ]
  },
  {
   "cell_type": "markdown",
   "metadata": {},
   "source": [
    "Fixed Parameters Definition"
   ]
  },
  {
   "cell_type": "code",
   "execution_count": 90,
   "metadata": {},
   "outputs": [],
   "source": [
    "# Delta time:\n",
    "MinScale = 60; # (60s/m)\n",
    "# Physical and Tidal Lagoon Coefficients\n",
    "To = 2; # Turbine Orientation -> To = 2: Ebb Orientation (Penalty when generating energy in Flood Regime (ocean wl > lagoon wl))\n",
    "g = 9.81; # Gravity acceleration (m/s2)\n",
    "rho = 1024; # Seawater density (kg/m3)\n",
    "nt = 16; # Number of turbines\n",
    "f = 50; # Grid frequency (Hz)\n",
    "Np = 95; # Number of generator poles in the turbine ?? (ref: Athanasius)\n",
    "Dt = 7.35; # Bulb turbine diameter (m)\n",
    "Ca = 20 * 10**6; # (All 16 units = 20MW)\n",
    "CD = 1;\n",
    "CDt = 1.36; # Turbine Discharge Coefficient when running in Idling mode\n",
    "Sp = 2 * 60 * f / Np; # Turbine speed ?? (ref: Athanasius)\n",
    "At = np.pi * Dt**2 / 4;\n",
    "As = 800; # Value based on paper from Athanasius, where total sluice area = 800 m2 (80*10)\n",
    "# Barrage Losses ( Aggidis - Operational optimization of a tidal barrage across the Mersaey Estuary)\n",
    "Eff_ge = .97; # Generator Efficiency (Andre, 1976)\n",
    "Eff_te = .995; # Transformer Efficiency (Libaux et al, 2011)\n",
    "Eff_we = .95; # Water Friction (Baker and Leach, 2006)\n",
    "Eff_gear_box_e = .972; # Gear Box/Drive train (Taylor, 2008)\n",
    "Eff_turbine_avail = .95; # Turbine availlability in lifecycle (Baker and Leach, 2006)\n",
    "CE = Eff_ge * Eff_te * Eff_we * Eff_gear_box_e * Eff_turbine_avail; # Turbine local efficiency losses - Calculated in Awake\n",
    "# Momentum Ramp Hyperparameter\n",
    "Zeta = 0.4"
   ]
  },
  {
   "cell_type": "code",
   "execution_count": 128,
   "metadata": {},
   "outputs": [],
   "source": [
    "%run TidalLagoonFunctions.ipynb # Import Prediction-Dependent Optimization Routines"
   ]
  },
  {
   "cell_type": "markdown",
   "metadata": {},
   "source": [
    "# Load & Preprocess BODC (prediction & measurements) files"
   ]
  },
  {
   "cell_type": "markdown",
   "metadata": {},
   "source": [
    "### Choose data for operation and make resolution = 1 min"
   ]
  },
  {
   "cell_type": "code",
   "execution_count": 92,
   "metadata": {},
   "outputs": [],
   "source": [
    "def GetDataBODC(ii):\n",
    "   \n",
    "    file = str(ii) + 'r.csv' # BODC 'r = real' measurement files\n",
    "    my_data = genfromtxt(file)\n",
    "    owl_real_load = my_data[:] ;\n",
    "    owl_real_15min = owl_real_load # - np.mean(owl_real_load);\n",
    "    time = np.linspace(0,(1/4)*(owl_real_15min.shape[0]-1),owl_real_15min.shape[0])\n",
    "    \n",
    "    fileb = str(ii) + 'p.csv' # BODC 'p = prediction' files\n",
    "    my_datab = genfromtxt(fileb)\n",
    "    owl_b_load = my_datab[:] ;\n",
    "    owl_bp_15min = owl_b_load # - np.mean(owl_b_load);\n",
    "    timeb = np.linspace(0,(1/4)*(owl_bp_15min.shape[0]-1),owl_bp_15min.shape[0])\n",
    "    \n",
    "    # Make BODC file resolution = 1 min (instead of 15 min)\n",
    "    \n",
    "    # BODC real data: \n",
    "    stop = 24*4*30 # Last point number to complete a month (deltaT =  15 min) \n",
    "    kk = 0; jj = 0;\n",
    "    owl_real_min = []\n",
    "    while kk < stop: \n",
    "        temp = (owl_real_15min[kk]*(15-jj)/15 + (jj/15)*owl_real_15min[kk+1])\n",
    "        owl_real_min.append(temp)\n",
    "        if (jj % 15 == 0 and jj != 0): # 15 minutes passed\n",
    "            jj = 0;\n",
    "            kk += 1\n",
    "        jj += 1 \n",
    "        \n",
    "    # BODC prediction data: \n",
    "    stop = 24*4*30 # Last point number to complete a month (deltaT =  15 min) \n",
    "    kk = 0; jj = 0;\n",
    "    owl_BODCp_min = []\n",
    "    while kk < stop: \n",
    "        temp = (owl_bp_15min[kk]*(15-jj)/15 + (jj/15)*owl_bp_15min[kk+1])\n",
    "        owl_BODCp_min.append(temp)\n",
    "        if (jj % 15 == 0 and jj != 0): # 15 minutes passed\n",
    "            jj = 0;\n",
    "            kk += 1\n",
    "        jj += 1 \n",
    "    \n",
    "    timeMin = np.linspace(0, len(owl_bp_15min)-1, len(owl_bp_15min)) # Time, by the minute\n",
    "    \n",
    "    return owl_real_min, owl_BODCp_min, timeMin, owl_real_15min, owl_bp_15min"
   ]
  },
  {
   "cell_type": "markdown",
   "metadata": {},
   "source": [
    "Cut every half-tide for both JTides and BODC datasets. This process utilizes the ocean data where res = 15 min"
   ]
  },
  {
   "cell_type": "code",
   "execution_count": 93,
   "metadata": {},
   "outputs": [],
   "source": [
    "def returStartEndHT(ocean15MinRes):\n",
    "    # 1st time reading ocean data, first change in sign (ocean) = first cut\n",
    "    # 2nd cut, and so forth, are found when the derivative (ocean[kk+1] + ocean[kk]) switches sign\n",
    "    StartEndHT = []\n",
    "    ii = 0\n",
    "    delta = 0\n",
    "    StartEndHT.append(ii)\n",
    "    derivSignalI = np.sign(ocean15MinRes[2] - ocean15MinRes[1]); # Initial slope\n",
    "    for owl in ocean15MinRes[0:-1]:\n",
    "        if (ocean15MinRes[ii+1] != owl) and delta > 10: # Ignore small perturbations\n",
    "            derivSignal = np.sign(ocean15MinRes[ii+1] - owl)\n",
    "            if (derivSignal != derivSignalI):\n",
    "                StartEndHT.append(ii)\n",
    "                derivSignalI = derivSignal\n",
    "                delta = 0\n",
    "        ii += 1\n",
    "        delta +=1 \n",
    "    \n",
    "    return StartEndHT"
   ]
  },
  {
   "cell_type": "markdown",
   "metadata": {},
   "source": [
    "# Final ocean range to be considered in simulation starts at StartEndHT[0] and ends at StartEndHT[-1] -> Only half-tides considered"
   ]
  },
  {
   "cell_type": "code",
   "execution_count": 94,
   "metadata": {},
   "outputs": [
    {
     "name": "stdout",
     "output_type": "stream",
     "text": [
      "2860\n",
      "2859\n",
      "2881\n",
      "2881\n",
      "2858\n",
      "2882\n",
      "2860\n",
      "2882\n",
      "2859\n",
      "2881\n",
      "2861\n",
      "2858\n",
      "2861\n",
      "2882\n",
      "2858\n",
      "2858\n",
      "2859\n",
      "2882\n",
      "2881\n",
      "2881\n",
      "2882\n",
      "2882\n",
      "2861\n",
      "2861\n",
      "2859\n",
      "2858\n"
     ]
    }
   ],
   "source": [
    "for Data in range(1,27):\n",
    "    owl_r, owl_pb, timeMin, owl_r_15, owl_pb_15 = GetDataBODC(Data)\n",
    "    StartEndHT = returStartEndHT(owl_pb_15)\n",
    "\n",
    "    print(StartEndHT[-1]+1)"
   ]
  },
  {
   "cell_type": "code",
   "execution_count": 95,
   "metadata": {},
   "outputs": [
    {
     "name": "stdout",
     "output_type": "stream",
     "text": [
      "StartEndHT:  [0, 25, 51, 77, 102, 128, 154, 179, 204, 229, 255, 279, 305, 329, 355, 379, 404, 429, 454, 478, 503, 528, 553, 577, 602, 627, 652, 676, 701, 725, 750, 775, 800, 824, 849, 873, 898, 923, 948, 972, 997, 1021, 1047, 1071, 1096, 1120, 1146, 1170, 1195, 1220, 1246, 1271, 1296, 1322, 1347, 1373, 1399, 1424, 1450, 1475, 1500, 1525, 1550, 1575, 1600, 1625, 1650, 1674, 1699, 1723, 1748, 1772, 1797, 1821, 1846, 1870, 1895, 1919, 1944, 1968, 1993, 2017, 2042, 2066, 2091, 2115, 2140, 2164, 2189, 2213, 2238, 2262, 2287, 2311, 2336, 2360, 2385, 2409, 2435, 2458, 2483, 2507, 2533, 2556, 2582, 2605, 2632, 2655, 2681, 2705, 2732, 2756, 2782, 2808, 2834, 2859]\n",
      "Number of half-tides:  115\n",
      "len(owl_r_15)-1:  2881\n"
     ]
    }
   ],
   "source": [
    "Data = 1\n",
    "owl_r, owl_pb, timeMin, owl_r_15, owl_pb_15 = GetDataBODC(Data)\n",
    "StartEndHT = returStartEndHT(owl_pb_15)\n",
    "\n",
    "print('StartEndHT: ', StartEndHT)\n",
    "print('Number of half-tides: ', len(StartEndHT)-1)\n",
    "print('len(owl_r_15)-1: ', len(owl_r_15))"
   ]
  },
  {
   "cell_type": "code",
   "execution_count": 96,
   "metadata": {},
   "outputs": [
    {
     "name": "stdout",
     "output_type": "stream",
     "text": [
      "0.047000000000000014\n"
     ]
    }
   ],
   "source": [
    "MaxDelta = 0\n",
    "kk = 0\n",
    "for wl in owl_r[0:-1]:\n",
    "    MaxTemp = np.abs(owl_pb[kk] - owl_pb[kk+1]) \n",
    "    if MaxTemp > MaxDelta:\n",
    "        MaxDelta = MaxTemp\n",
    "    kk+=1\n",
    "print(MaxDelta)"
   ]
  },
  {
   "cell_type": "markdown",
   "metadata": {},
   "source": [
    "# CH Routine"
   ]
  },
  {
   "cell_type": "code",
   "execution_count": 97,
   "metadata": {},
   "outputs": [],
   "source": [
    "def CHgetEnergyFromData(oceanData): \n",
    "    resVec = [1, .5, .25, .125, .0625, .03125, 0.015625, 0.0078125] # Difference in cm between operational head tested\n",
    "    iteration = 0\n",
    "    MaxEnBS1 = 0\n",
    "    HminBegin = 1\n",
    "    HminEnd = 3\n",
    "    HstartBegin = 1\n",
    "    HstartEnd = 6\n",
    "    \n",
    "    Fl = 0; Fp = 0; Fqt = 0; Fqs = 0\n",
    "    for res in resVec:\n",
    "        # Brute Force optimization (Find best Hstart and Hmin for a whole month):\n",
    "        if iteration != 0:\n",
    "\n",
    "            HstartBegin = BestConfig[0] - res\n",
    "            HstartEnd   = BestConfig[0] + res\n",
    "            HminBegin   = BestConfig[1] - res\n",
    "            HminEnd     = BestConfig[1] + res\n",
    "\n",
    "        numberHmin = int(1 + (HminEnd - HminBegin)/res)\n",
    "        numberHstart = int(1 + (HstartEnd - HstartBegin)/res)\n",
    "        for Hmin in np.linspace(HminBegin, HminEnd, numberHmin):\n",
    "            for Hstart in np.linspace(HstartBegin, HstartEnd, numberHstart):\n",
    "                Lagoon, Power, Qturbine, Qsluice, EnOut = TidalLagoonOP(Hstart, Hmin, oceanData)\n",
    "                if (EnOut > MaxEnBS1):\n",
    "                    MaxEnBS1 = EnOut\n",
    "                    Fl = Lagoon; Fp = Power; Fqt = Qturbine; Fqs = Qsluice\n",
    "                    BestConfig = [Hstart, Hmin]\n",
    "                iteration += 1\n",
    "                    \n",
    "    return MaxEnBS1, BestConfig, Fl, Fp, Fqt, Fqs"
   ]
  },
  {
   "cell_type": "markdown",
   "metadata": {},
   "source": [
    "Get Upper Bound estimate (perfect forecast scenario) for CH method"
   ]
  },
  {
   "cell_type": "code",
   "execution_count": 98,
   "metadata": {},
   "outputs": [],
   "source": [
    "CHUpperBoundEn = []; CHUpperBoundLagoon = []; CHUpperBoundOcean = []; CHUpperBoundStrategy = []\n",
    "CHUpperBoundQt = []; CHUpperBoundQs = []; CHUpperBoundPow = []\n",
    "for Data in range(1,27): # Get results for 26 months (pre-processed)\n",
    "    owl_r, owl_pb, timeMin, owl_r_15, owl_pb_15 = GetDataBODC(Data)\n",
    "    MaxEn, BestHstartHmin, Lagoon, Power, Qturbine, Qsluice = CHgetEnergyFromData(owl_r)\n",
    "    CHUpperBoundEn.append(MaxEn/(3.6*10**6)) # GWh\n",
    "    CHUpperBoundLagoon.append(Lagoon)\n",
    "    CHUpperBoundOcean.append(owl_r)\n",
    "    CHUpperBoundQt.append(Qturbine)\n",
    "    CHUpperBoundQs.append(Qsluice)\n",
    "    CHUpperBoundPow.append(Power)\n",
    "    CHUpperBoundStrategy.append(BestHstartHmin)"
   ]
  },
  {
   "cell_type": "code",
   "execution_count": 99,
   "metadata": {},
   "outputs": [
    {
     "data": {
      "text/plain": [
       "[33.65276823519373,\n",
       " 34.65823972259154,\n",
       " 36.19425057718776,\n",
       " 30.775510927613993,\n",
       " 38.39717596840077,\n",
       " 31.217311513342544,\n",
       " 32.460295937680165,\n",
       " 31.314708056396366,\n",
       " 38.34414870935561,\n",
       " 32.32342761286354,\n",
       " 28.59579237921866,\n",
       " 33.15062763464004,\n",
       " 30.247652864232624,\n",
       " 28.259444619091422,\n",
       " 29.46613457066457,\n",
       " 31.41821058145871,\n",
       " 37.24332213312004,\n",
       " 39.09637386997632,\n",
       " 38.15810500769485,\n",
       " 37.347781820720705,\n",
       " 29.939191926498196,\n",
       " 31.98341825223782,\n",
       " 32.60070211937589,\n",
       " 33.75954908612882,\n",
       " 32.35696600684639,\n",
       " 33.07091328349176]"
      ]
     },
     "execution_count": 99,
     "metadata": {},
     "output_type": "execute_result"
    }
   ],
   "source": [
    "CHUpperBoundEn"
   ]
  },
  {
   "cell_type": "markdown",
   "metadata": {},
   "source": [
    "Get Actual Bound (Real-Time) estimate when using a whole month of tidal prediction data"
   ]
  },
  {
   "cell_type": "code",
   "execution_count": 100,
   "metadata": {},
   "outputs": [],
   "source": [
    "CHMonthPredEn = []; CHMonthPredLagoon = []; CHMonthPredOcean = []; CHMonthPredStrategy = []\n",
    "CHMonthPredQt = []; CHMonthPredQs = []; CHMonthPredPow = []\n",
    "for Data in range(1,27): # Get results for 26 months (pre-processed)\n",
    "    owl_r, owl_pb, timeMin, owl_r_15, owl_pb_15 = GetDataBODC(Data)\n",
    "    _, BestHstartHmin, _, _, _, _ = CHgetEnergyFromData(owl_pb)\n",
    "    Lagoon, Power, Qturbine, Qsluice, EnOut = TidalLagoonOP(BestHstartHmin[0], BestHstartHmin[1], owl_r)\n",
    "    CHMonthPredEn.append(EnOut/(3.6*10**6)) # GWh\n",
    "    CHMonthPredLagoon.append(Lagoon)\n",
    "    CHMonthPredOcean.append(owl_r)\n",
    "    CHMonthPredQt.append(Qturbine)\n",
    "    CHMonthPredQs.append(Qsluice)\n",
    "    CHMonthPredPow.append(Power)\n",
    "    CHMonthPredStrategy.append(BestHstartHmin)"
   ]
  },
  {
   "cell_type": "markdown",
   "metadata": {},
   "source": [
    "# CHV Routine"
   ]
  },
  {
   "cell_type": "code",
   "execution_count": 101,
   "metadata": {},
   "outputs": [],
   "source": [
    "def CHVgetEnergyFromData(oceanData): \n",
    "    resVec = [1, .5, .25, .125, .0625, .03125, 0.015625, 0.0078125] # Difference in cm between operational head tested\n",
    "    iteration = 0\n",
    "    MaxEnB2 = 0\n",
    "    HminBegin = 1\n",
    "    HminEnd = 3\n",
    "    HstartBegin = 1\n",
    "    HstartEnd = 6\n",
    "    HsStartBegin = 1\n",
    "    HsStartEnd = 5\n",
    "    \n",
    "    Fl = 0; Fp = 0; Fqt = 0; Fqs = 0\n",
    "    for res in resVec:\n",
    "        # Brute Force optimization (Find best Hstart and Hmin for a whole month):\n",
    "        if iteration != 0:\n",
    "\n",
    "            HstartBegin    = BestConfig[0] - res\n",
    "            HstartEnd     = BestConfig[0] + res\n",
    "            HminBegin      = BestConfig[1] - res\n",
    "            HminEnd       = BestConfig[1] + res\n",
    "            HsStartBegin   = BestConfig[2] - res\n",
    "            HsStartEnd    = BestConfig[2] + res\n",
    "\n",
    "        numberHmin = int(1 + (HminEnd - HminBegin)/res)\n",
    "        numberHstart = int(1 + (HstartEnd - HstartBegin)/res)\n",
    "        numberHsStart = int(1 + (HsStartEnd - HsStartBegin)/res)\n",
    "        \n",
    "        for HtMin in np.linspace(HminBegin, HminEnd, numberHmin):\n",
    "            for HtStart in np.linspace(HstartBegin, HstartEnd, numberHstart):\n",
    "                for HsStart in np.linspace(HsStartBegin, HsStartEnd, numberHsStart):\n",
    "                    Lagoon, Power, Qturbine, Qsluice, EnOut = TidalLagoonOPB2(HtStart, HtMin, HsStart, oceanData)\n",
    "                    if (EnOut > MaxEnB2):\n",
    "                        MaxEnB2 = EnOut\n",
    "                        Fl = Lagoon; Fp = Power; Fqt = Qturbine; Fqs = Qsluice\n",
    "                        BestConfig = [HtStart, HtMin, HsStart]\n",
    "                    iteration += 1\n",
    "                    \n",
    "    return MaxEnB2, BestConfig, Fl, Fp, Fqt, Fqs"
   ]
  },
  {
   "cell_type": "markdown",
   "metadata": {},
   "source": [
    "Get Upper Bound estimate (perfect forecast scenario) for CHV method"
   ]
  },
  {
   "cell_type": "code",
   "execution_count": 102,
   "metadata": {},
   "outputs": [],
   "source": [
    "CHVUpperBoundEn = []; CHVUpperBoundLagoon = []; CHVUpperBoundOcean = []; CHVUpperBoundStrategy = []\n",
    "CHVUpperBoundQt = []; CHVUpperBoundQs = []; CHVUpperBoundPow = []\n",
    "for Data in range(1,27): # Get results for 26 months (pre-processed)\n",
    "    owl_r, owl_pb, timeMin, owl_r_15, owl_pb_15 = GetDataBODC(Data)\n",
    "    MaxEn, BestHstartHmin, Lagoon, Power, Qturbine, Qsluice = CHVgetEnergyFromData(owl_r)\n",
    "    CHVUpperBoundEn.append(MaxEn/(3.6*10**6)) # GWh\n",
    "    CHVUpperBoundLagoon.append(Lagoon)\n",
    "    CHVUpperBoundOcean.append(owl_r)\n",
    "    CHVUpperBoundQt.append(Qturbine)\n",
    "    CHVUpperBoundQs.append(Qsluice)\n",
    "    CHVUpperBoundPow.append(Power)\n",
    "    CHVUpperBoundStrategy.append(BestHstartHmin)"
   ]
  },
  {
   "cell_type": "code",
   "execution_count": 118,
   "metadata": {},
   "outputs": [
    {
     "data": {
      "text/plain": [
       "[34.13585825212925, 35.127167318152715]"
      ]
     },
     "execution_count": 118,
     "metadata": {},
     "output_type": "execute_result"
    }
   ],
   "source": [
    "CHVUpperBoundEn"
   ]
  },
  {
   "cell_type": "markdown",
   "metadata": {},
   "source": [
    "Get Actual Bound (Real-Time) estimate when using a whole month of tidal prediction data"
   ]
  },
  {
   "cell_type": "code",
   "execution_count": 104,
   "metadata": {},
   "outputs": [],
   "source": [
    "CHVMonthPredEn = []; CHVMonthPredLagoon = []; CHVMonthPredOcean = []; CHVMonthPredStrategy = []\n",
    "CHVMonthPredQt = []; CHVMonthPredQs = []; CHVMonthPredPow = []\n",
    "for Data in range(1,27): # Get results for 26 months (pre-processed)\n",
    "    owl_r, owl_pb, timeMin, owl_r_15, owl_pb_15 = GetDataBODC(Data)\n",
    "    _, BestHstartHminHSstart, _, _, _, _, = CHVgetEnergyFromData(owl_pb)\n",
    "    Lagoon, Power, Qturbine, Qsluice, EnOut = TidalLagoonOPB2(BestHstartHminHSstart[0], BestHstartHminHSstart[1], BestHstartHminHSstart[2], owl_r)\n",
    "    CHVMonthPredEn.append(EnOut/(3.6*10**6)) # GWh\n",
    "    CHVMonthPredLagoon.append(Lagoon)\n",
    "    CHVMonthPredOcean.append(owl_r)\n",
    "    CHVMonthPredQt.append(Qturbine)\n",
    "    CHVMonthPredQs.append(Qsluice)\n",
    "    CHVMonthPredPow.append(Power)\n",
    "    CHVMonthPredStrategy.append(BestHstartHminHSstart)"
   ]
  },
  {
   "cell_type": "code",
   "execution_count": 105,
   "metadata": {},
   "outputs": [
    {
     "data": {
      "text/plain": [
       "[32.38642729603018, 35.00039059250477]"
      ]
     },
     "execution_count": 105,
     "metadata": {},
     "output_type": "execute_result"
    }
   ],
   "source": [
    "CHVMonthPredEn"
   ]
  },
  {
   "cell_type": "markdown",
   "metadata": {},
   "source": [
    "# EHT Routine"
   ]
  },
  {
   "cell_type": "code",
   "execution_count": 106,
   "metadata": {},
   "outputs": [],
   "source": [
    "def EHTgetEnergyFromData(oceanData): # Ocean data with res = 15min\n",
    "\n",
    "#     start = timer() # BEGIN TIMER \n",
    "    everyHTHstartHmin = [] # Collection of tuples for TRS control\n",
    "    everyHTOcean = [] # Save every ocean half-tide data with res = 1 min\n",
    "    everyHTtimeMin = [] # Save every timeMin for ocean half-tide data\n",
    "    everyHTLagoon = [] # Save every lagoon half-tide data with res = 1 min\n",
    "    \n",
    "    everyHTQt = [] # Save every half-tide Qt data with res = 1 min\n",
    "    everyHTQs = [] # Save every half-tide Qs data with res = 1 min\n",
    "    everyHTPow = [] # Save every half-tide Pow data with res = 1 min\n",
    "    nextQandEn = [0, 0, 0]\n",
    "    kk = 0;\n",
    "    MonthEnTraining = 0\n",
    "    \n",
    "    StartEndHT = returStartEndHT(oceanData)\n",
    "    for first, second in zip(StartEndHT, StartEndHT[1:]):\n",
    "        jj = 0;\n",
    "        oceanMinHT = [] \n",
    "        while first < second: # deltaT = 15min for owlCut, HT indexed by StartEndHT \n",
    "            temp = (oceanData[first]*(15-jj)/15 + (jj/15)*oceanData[first+1])\n",
    "            oceanMinHT.append(temp)\n",
    "            if (jj % 15 == 0 and jj != 0): # 15 minutes passed\n",
    "                jj = 0;\n",
    "                first += 1\n",
    "            jj += 1 \n",
    "        # oceanMin contains the ocean level varying in min for ~30 consecutive days (complete half tides considered)\n",
    "        timeMin = np.linspace(0, len(oceanMinHT)-1, len(oceanMinHT)) # Time, by the minute\n",
    "        # Insert oceanMinHT and timeMin data to optimization algorithim\n",
    "        if kk == 0:\n",
    "            prevQandEn = [0, 0, 0]\n",
    "            initialLagoonElev = 0 # Initial Lagoon water level for optimization\n",
    "            top = \"powerGen\" # Starting turbine operation\n",
    "            sop = \"holding\" # Starting sluice operation\n",
    "            kk = 1\n",
    "        else: \n",
    "            initialLagoonElev = Lagoon[-1]\n",
    "            top = ntop # Sequential turbine operation\n",
    "            prevQandEn = nextQandEn\n",
    "        MaxEn, Lagoon, BestConfig, Power, Qturbine, Qsluice, ntop, nextQandEn = ehtB3(timeMin, oceanMinHT, initialLagoonElev, top, prevQandEn)\n",
    "        MonthEnTraining += MaxEn\n",
    "        everyHTHstartHmin.append(BestConfig)\n",
    "        everyHTOcean.append(oceanMinHT) # Save every ocean half-tide data with res = 1 min\n",
    "        everyHTtimeMin.append(timeMin) # Save every timeMin for ocean half-tide data\n",
    "        everyHTLagoon.append(Lagoon) # Save every lagoon half-tide data with res = 1 min\n",
    "        everyHTQt.append(Qturbine)\n",
    "        everyHTQs.append(Qsluice)\n",
    "        everyHTPow.append(Power)\n",
    "    \n",
    "    return MonthEnTraining, everyHTLagoon, everyHTtimeMin, everyHTOcean, everyHTQt, everyHTQs, everyHTPow, everyHTHstartHmin"
   ]
  },
  {
   "cell_type": "markdown",
   "metadata": {},
   "source": [
    "Apply BestConfig heads from EHT into ocean data:"
   ]
  },
  {
   "cell_type": "code",
   "execution_count": 107,
   "metadata": {},
   "outputs": [],
   "source": [
    "def EHTapplyBestConfigToBODC(everyHTtimeMin, everyHTOcean, BestConfig):\n",
    "\n",
    "    kk = 0\n",
    "    ii = 0\n",
    "    MonthEn = 0\n",
    "#     nextQandEn = [0, 0, 0]\n",
    "    everyHTPower = [];\n",
    "    everyHTQturbine = [];\n",
    "    everyHTQsluice = [];\n",
    "    everyHTLagoon = [];\n",
    "    for oceanMin in everyHTOcean:\n",
    "        timeMin = everyHTtimeMin[ii]\n",
    "        HtStart = BestConfig[ii][0]\n",
    "        HtMin   = BestConfig[ii][1]\n",
    "        if kk == 0:\n",
    "            prevQandEn = [0, 0, 0]\n",
    "            initialLagoonElev = 0 # Initial Lagoon water level for optimization\n",
    "            top = \"powerGen\" # Starting turbine operation\n",
    "            sop = \"holding\" # Starting sluice operation\n",
    "            kk = 1\n",
    "        else: \n",
    "            initialLagoonElev = Lagoon[-1]\n",
    "            top = ntop # Sequential turbine operation\n",
    "            prevQandEn = nextQandEn;\n",
    "            \n",
    "        Lagoon, Power, Qturbine, Qsluice, EnSum, ntop, nextQandEn = TidalLagoonOPB3(HtStart, HtMin, timeMin, oceanMin, initialLagoonElev, top, prevQandEn)\n",
    "        everyHTPower.append(Power);\n",
    "        everyHTQturbine.append(Qturbine);\n",
    "        everyHTQsluice.append(Qsluice);\n",
    "        everyHTLagoon.append(Lagoon)\n",
    "        MonthEn += EnSum\n",
    "        ii+=1\n",
    "    return MonthEn, everyHTLagoon, everyHTPower, everyHTQturbine, everyHTQsluice"
   ]
  },
  {
   "cell_type": "markdown",
   "metadata": {},
   "source": [
    "Get Upper Bound estimate (perfect forecast scenario) for EHT method"
   ]
  },
  {
   "cell_type": "code",
   "execution_count": 108,
   "metadata": {},
   "outputs": [],
   "source": [
    "nextQandEn = [0, 0, 0]\n",
    "EHTUpperBoundEn = []; EHTUpperBoundLagoon = []; EHTUpperBoundTime = []; EHTUpperBoundOcean = []; EHTUpperBoundStrategy = []\n",
    "EHTUpperBoundQt = []; EHTUpperBoundQs = []; EHTUpperBoundPow = []\n",
    "for Data in range(1,27): # Get results for 26 months (pre-processed)\n",
    "    owl_r, owl_pb, timeMin, owl_r_15, owl_pb_15 = GetDataBODC(Data)\n",
    "    UbTest, LagoonBODC, time_np, OceanBODC, everyHTQt, everyHTQs, everyHTPow, everyHTHstartHmin_np = EHTgetEnergyFromData(owl_r_15)\n",
    "    EHTUpperBoundEn.append(UbTest/(3.6*10**6)) # GWh\n",
    "    EHTUpperBoundLagoon.append(LagoonBODC)\n",
    "    EHTUpperBoundTime.append(time_np)\n",
    "    EHTUpperBoundOcean.append(OceanBODC)\n",
    "    EHTUpperBoundQt.append(everyHTQt)\n",
    "    EHTUpperBoundQs.append(everyHTQs)\n",
    "    EHTUpperBoundPow.append(everyHTPow)\n",
    "    EHTUpperBoundStrategy.append(everyHTHstartHmin_np)"
   ]
  },
  {
   "cell_type": "code",
   "execution_count": 109,
   "metadata": {},
   "outputs": [
    {
     "data": {
      "text/plain": [
       "[43.72645119955317,\n",
       " 43.358548142608505,\n",
       " 44.40397680574694,\n",
       " 41.67012408469018,\n",
       " 43.95162766637957,\n",
       " 42.81759684193128,\n",
       " 43.02640240175089,\n",
       " 40.76809491846881,\n",
       " 41.66587074399614,\n",
       " 42.44383128675747,\n",
       " 38.583001137908674,\n",
       " 38.74437140187294,\n",
       " 42.14025467946402,\n",
       " 41.29008797015722,\n",
       " 40.875815920429964,\n",
       " 41.64727678426563,\n",
       " 41.83308659289848,\n",
       " 44.50419763822193,\n",
       " 44.910925125321185,\n",
       " 43.84789928790343,\n",
       " 41.06762847225243,\n",
       " 41.94779051339762,\n",
       " 43.61326690660448,\n",
       " 43.24293648163641,\n",
       " 42.4878340455037,\n",
       " 41.60640024799092]"
      ]
     },
     "execution_count": 109,
     "metadata": {},
     "output_type": "execute_result"
    }
   ],
   "source": [
    "EHTUpperBoundEn"
   ]
  },
  {
   "cell_type": "markdown",
   "metadata": {},
   "source": [
    "Get Actual Bound (Real-Time) estimate when using a whole month of tidal prediction data"
   ]
  },
  {
   "cell_type": "code",
   "execution_count": 110,
   "metadata": {},
   "outputs": [],
   "source": [
    "# Fixed Hstart with conditioning\n",
    "nextQandEn = [0, 0, 0]\n",
    "EHTMonthPredEn = []; EHTMonthPredLagoon = []; EHTMonthPredTime = []; EHTMonthPredOcean = []; EHTMonthPredStrategy = []\n",
    "EHTMonthPredQt = []; EHTMonthPredQs = []; EHTMonthPredPow = []\n",
    "for Data in range(1,27): # Get results for 26 months (pre-processed)\n",
    "    owl_r, owl_pb, timeMin, owl_r_15, owl_pb_15 = GetDataBODC(Data)\n",
    "    TrainEnergy, _, _, _, _, _, _, everyHTHstartHmin = EHTgetEnergyFromData(owl_pb_15) # Get strategy from BODC prediction\n",
    "    \n",
    "    StartEndHT = returStartEndHT(owl_pb_15) # Get half-tides estimate from BODC data\n",
    "\n",
    "    oceanData = owl_r_15\n",
    "    everyHTtimeMin = []; everyHTOcean = []\n",
    "    for first, second in zip(StartEndHT, StartEndHT[1:]):\n",
    "        jj = 0;\n",
    "        oceanMinHT = [] \n",
    "        while first < second: # deltaT = 15min for owlCut, HT indexed by StartEndHT \n",
    "            temp = (oceanData[first]*(15-jj)/15 + (jj/15)*oceanData[first+1])\n",
    "            oceanMinHT.append(temp)\n",
    "            if (jj % 15 == 0 and jj != 0): # 15 minutes passed\n",
    "                jj = 0;\n",
    "                first += 1\n",
    "            jj += 1 \n",
    "        # oceanMinHT contains the ocean level varying in min for ~30 consecutive days (complete half tides considered)\n",
    "        timeMin = np.linspace(0, len(oceanMinHT)-1, len(oceanMinHT)) # Time, by the minute\n",
    "        everyHTOcean.append(oceanMinHT) # Save every ocean half-tide data with res = 1 min\n",
    "        everyHTtimeMin.append(timeMin) # Save every timeMin for ocean half-tide data\n",
    "    EHTSwansea_np, everyHTLagoon, everyHTPower, everyHTQturbine, everyHTQsluice = EHTapplyBestConfigToBODC(everyHTtimeMin, everyHTOcean, everyHTHstartHmin)\n",
    "    EHTMonthPredEn.append(EHTSwansea_np/(3.6*10**6)) # GWh\n",
    "    EHTMonthPredLagoon.append(everyHTLagoon)\n",
    "    EHTMonthPredTime.append(timeMin)\n",
    "    EHTMonthPredOcean.append(everyHTOcean)\n",
    "    EHTMonthPredQt.append(everyHTQturbine)\n",
    "    EHTMonthPredQs.append(everyHTQsluice)\n",
    "    EHTMonthPredPow.append(everyHTPower)\n",
    "    EHTMonthPredStrategy.append(everyHTHstartHmin)"
   ]
  },
  {
   "cell_type": "code",
   "execution_count": 111,
   "metadata": {},
   "outputs": [
    {
     "data": {
      "text/plain": [
       "[43.40852343447322,\n",
       " 43.304541339892225,\n",
       " 44.33151205691854,\n",
       " 41.63561674605981,\n",
       " 43.84530773338814,\n",
       " 42.78852281301189,\n",
       " 42.87688154453707,\n",
       " 40.661694060768404,\n",
       " 41.65324878793811,\n",
       " 15.766101041798665,\n",
       " 38.20189670288811,\n",
       " 38.74802868575414,\n",
       " 42.13608789066715,\n",
       " 41.32641540465417,\n",
       " 40.851762106774366,\n",
       " 41.49530086598373,\n",
       " 41.78241291258481,\n",
       " 44.312728326592016,\n",
       " 44.87185159043516,\n",
       " 43.81091204842097,\n",
       " 41.04747820748377,\n",
       " 41.95831075277426,\n",
       " 43.55410282018291,\n",
       " 43.13728239758904,\n",
       " 42.38508574573493,\n",
       " 41.65981701137445]"
      ]
     },
     "execution_count": 111,
     "metadata": {},
     "output_type": "execute_result"
    }
   ],
   "source": [
    "EHTMonthPredEn"
   ]
  },
  {
   "cell_type": "markdown",
   "metadata": {},
   "source": [
    "# EHTV Routine"
   ]
  },
  {
   "cell_type": "code",
   "execution_count": 112,
   "metadata": {},
   "outputs": [],
   "source": [
    "def EHTVgetEnergyFromData(oceanData): # Ocean data with res = 15min\n",
    "\n",
    "#     start = timer() # BEGIN TIMER \n",
    "    everyHTHstartHminHsStart = [] # Collection of triples for TRS control\n",
    "    everyHTOcean = [] # Save every ocean half-tide data with res = 1 min\n",
    "    everyHTtimeMin = [] # Save every timeMin for ocean half-tide data\n",
    "    everyHTLagoon = [] # Save every lagoon half-tide data with res = 1 min\n",
    "    \n",
    "    everyHTQt = [] # Save every half-tide Qt data with res = 1 min\n",
    "    everyHTQs = [] # Save every half-tide Qs data with res = 1 min\n",
    "    everyHTPow = [] # Save every half-tide Pow data with res = 1 min\n",
    "    nextQandEn = [0, 0, 0]\n",
    "    kk = 0;\n",
    "    MonthEnTraining = 0\n",
    "    \n",
    "    StartEndHT = returStartEndHT(oceanData)\n",
    "    for first, second in zip(StartEndHT, StartEndHT[1:]):\n",
    "        jj = 0;\n",
    "        oceanMinHT = [] \n",
    "        while first < second: # deltaT = 15min for owlCut, HT indexed by StartEndHT \n",
    "            temp = (oceanData[first]*(15-jj)/15 + (jj/15)*oceanData[first+1])\n",
    "            oceanMinHT.append(temp)\n",
    "            if (jj % 15 == 0 and jj != 0): # 15 minutes passed\n",
    "                jj = 0;\n",
    "                first += 1\n",
    "            jj += 1 \n",
    "        # oceanMin contains the ocean level varying in min for ~30 consecutive days (complete half tides considered)\n",
    "        timeMin = np.linspace(0, len(oceanMinHT)-1, len(oceanMinHT)) # Time, by the minute\n",
    "        # Insert oceanMinHT and timeMin data to optimization algorithim\n",
    "        if kk == 0:\n",
    "            prevQandEn = [0, 0, 0]\n",
    "            initialLagoonElev = 0 # Initial Lagoon water level for optimization\n",
    "            top = \"powerGen\" # Starting turbine operation\n",
    "            sop = \"holding\" # Starting sluice operation\n",
    "            kk = 1\n",
    "        else: \n",
    "            initialLagoonElev = Lagoon[-1]\n",
    "            top = ntop # Sequential turbine operation\n",
    "            sop = nsop # Sequential sluice operation\n",
    "            prevQandEn = nextQandEn\n",
    "        MaxEn, Lagoon, BestConfig, Power, Qturbine, Qsluice, ntop, nsop, nextQandEn = ehtB4(timeMin, oceanMinHT, initialLagoonElev, top, sop, prevQandEn)\n",
    "        MonthEnTraining += MaxEn\n",
    "        everyHTHstartHminHsStart.append(BestConfig)\n",
    "        everyHTOcean.append(oceanMinHT) # Save every ocean half-tide data with res = 1 min\n",
    "        everyHTtimeMin.append(timeMin) # Save every timeMin for ocean half-tide data\n",
    "        everyHTLagoon.append(Lagoon) # Save every lagoon half-tide data with res = 1 min\n",
    "        everyHTQt.append(Qturbine)\n",
    "        everyHTQs.append(Qsluice)\n",
    "        everyHTPow.append(Power)\n",
    "    \n",
    "    return MonthEnTraining, everyHTLagoon, everyHTtimeMin, everyHTOcean, everyHTQt, everyHTQs, everyHTPow, everyHTHstartHminHsStart"
   ]
  },
  {
   "cell_type": "markdown",
   "metadata": {},
   "source": [
    "Apply BestConfig heads from EHTV into ocean data:"
   ]
  },
  {
   "cell_type": "code",
   "execution_count": 113,
   "metadata": {},
   "outputs": [],
   "source": [
    "def EHTVapplyBestConfigToBODC(everyHTtimeMin, everyHTOcean, BestConfig):\n",
    "\n",
    "    kk = 0\n",
    "    ii = 0\n",
    "    MonthEn = 0\n",
    "#     nextQandEn = [0, 0, 0]\n",
    "    everyHTPower = [];\n",
    "    everyHTQturbine = [];\n",
    "    everyHTQsluice = [];\n",
    "    everyHTLagoon = [];\n",
    "    for oceanMin in everyHTOcean:\n",
    "        timeMin = everyHTtimeMin[ii]\n",
    "        HtStart = BestConfig[ii][0]\n",
    "        HtMin   = BestConfig[ii][1]\n",
    "        HsStart   = BestConfig[ii][2]\n",
    "        if kk == 0:\n",
    "            prevQandEn = [0, 0, 0]\n",
    "            initialLagoonElev = 0 # Initial Lagoon water level for optimization\n",
    "            top = \"powerGen\" # Starting turbine operation\n",
    "            sop = \"holding\" # Starting sluice operation\n",
    "            kk = 1\n",
    "        else: \n",
    "            initialLagoonElev = Lagoon[-1]\n",
    "            top = ntop # Sequential turbine operation\n",
    "            sop = nsop # Sequential sluice operation\n",
    "            prevQandEn = nextQandEn;\n",
    "            \n",
    "        Lagoon, Power, Qturbine, Qsluice, EnSum, ntop, nsop, nextQandEn = TidalLagoonOPB4_New(HtStart, HtMin, HsStart, timeMin, oceanMin, initialLagoonElev, top, sop, prevQandEn)\n",
    "        everyHTPower.append(Power);\n",
    "        everyHTQturbine.append(Qturbine);\n",
    "        everyHTQsluice.append(Qsluice);\n",
    "        everyHTLagoon.append(Lagoon)\n",
    "        MonthEn += EnSum\n",
    "        ii+=1\n",
    "    return MonthEn, everyHTLagoon, everyHTPower, everyHTQturbine, everyHTQsluice"
   ]
  },
  {
   "cell_type": "markdown",
   "metadata": {},
   "source": [
    "Get Upper Bound estimate (perfect forecast scenario) for EHTV method"
   ]
  },
  {
   "cell_type": "code",
   "execution_count": 114,
   "metadata": {},
   "outputs": [],
   "source": [
    "nextQandEn = [0, 0, 0]\n",
    "EHTVUpperBoundEn = []; EHTVUpperBoundLagoon = []; EHTVUpperBoundTime = []; EHTVUpperBoundOcean = []; EHTVUpperBoundStrategy = []\n",
    "EHTVUpperBoundQt = []; EHTVUpperBoundQs = []; EHTVUpperBoundPow = []\n",
    "for Data in range(1,27):\n",
    "    owl_r, owl_pb, timeMin, owl_r_15, owl_pb_15 = GetDataBODC(Data)\n",
    "    BODCMonthEn, LagoonBODC, time, OceanBODC, everyHTQt, everyHTQs, everyHTPow, everyHTHstartHminHsStart = EHTVgetEnergyFromData(owl_r_15)\n",
    "    EHTVUpperBoundEn.append(BODCMonthEn/(3.6*10**6)) # GWh\n",
    "    EHTVUpperBoundLagoon.append(LagoonBODC)\n",
    "    EHTVUpperBoundTime.append(time)\n",
    "    EHTVUpperBoundOcean.append(OceanBODC)\n",
    "    EHTVUpperBoundQt.append(everyHTQt)\n",
    "    EHTVUpperBoundQs.append(everyHTQs)\n",
    "    EHTVUpperBoundPow.append(everyHTPow)\n",
    "    EHTVUpperBoundStrategy.append(everyHTHstartHminHsStart)"
   ]
  },
  {
   "cell_type": "code",
   "execution_count": 115,
   "metadata": {
    "scrolled": true
   },
   "outputs": [
    {
     "data": {
      "text/plain": [
       "[44.69732734959117]"
      ]
     },
     "execution_count": 115,
     "metadata": {},
     "output_type": "execute_result"
    }
   ],
   "source": [
    "EHTVUpperBoundEn"
   ]
  },
  {
   "cell_type": "markdown",
   "metadata": {},
   "source": [
    "Get Actual Bound (Real-Time) estimate when using a whole month of tidal prediction data"
   ]
  },
  {
   "cell_type": "code",
   "execution_count": 116,
   "metadata": {},
   "outputs": [],
   "source": [
    "# Fixed Hstart with conditioning\n",
    "nextQandEn = [0, 0, 0]\n",
    "\n",
    "EHTVMonthPredEn = []; EHTVMonthPredLagoon = []; EHTVMonthPredTime = []; EHTVMonthPredOcean = []; EHTVMonthPredStrategy = []\n",
    "EHTVMonthPredQt = []; EHTVMonthPredQs = []; EHTVMonthPredPow = []\n",
    "for Data in range(1,2):\n",
    "    owl_r, owl_pb, timeMin, owl_r_15, owl_pb_15 = GetDataBODC(Data)\n",
    "    TrainEnergy, _, _, _, _, _, _, everyHTHstartHminHsStart_np = EHTVgetEnergyFromData(owl_pb_15) # Get strategy from JTides prediction\n",
    "    \n",
    "    StartEndHT = returStartEndHT(owl_pb_15) # Get half-tides estimate from JTides data\n",
    "\n",
    "    oceanData = owl_r_15\n",
    "    everyHTtimeMin = []; everyHTOcean = []\n",
    "    for first, second in zip(StartEndHT, StartEndHT[1:]):\n",
    "        jj = 0;\n",
    "        oceanMinHT = [] \n",
    "        while first < second: # deltaT = 15min for owlCut, HT indexed by StartEndHT \n",
    "            temp = (oceanData[first]*(15-jj)/15 + (jj/15)*oceanData[first+1])\n",
    "            oceanMinHT.append(temp)\n",
    "            if (jj % 15 == 0 and jj != 0): # 15 minutes passed\n",
    "                jj = 0;\n",
    "                first += 1\n",
    "            jj += 1 \n",
    "        # oceanMinHT contains the ocean level varying in min for ~30 consecutive days (complete half tides considered)\n",
    "        timeMin = np.linspace(0, len(oceanMinHT)-1, len(oceanMinHT)) # Time, by the minute\n",
    "        everyHTOcean.append(oceanMinHT) # Save every ocean half-tide data with res = 1 min\n",
    "        everyHTtimeMin.append(timeMin) # Save every timeMin for ocean half-tide data\n",
    "    EHTVSwansea_np, everyHTLagoon, everyHTPower, everyHTQturbine, everyHTQsluice = EHTVapplyBestConfigToBODC(everyHTtimeMin, everyHTOcean, everyHTHstartHminHsStart_np)\n",
    "    EHTVMonthPredEn.append(EHTVSwansea_np/(3.6*10**6)) # GWh\n",
    "    EHTVMonthPredLagoon.append(everyHTLagoon)\n",
    "    EHTVMonthPredTime.append(timeMin)\n",
    "    EHTVMonthPredOcean.append(everyHTOcean)\n",
    "    EHTVMonthPredQt.append(everyHTQturbine)\n",
    "    EHTVMonthPredQs.append(everyHTQsluice)\n",
    "    EHTVMonthPredPow.append(everyHTPower)\n",
    "    EHTVMonthPredStrategy.append(everyHTHstartHminHsStart_np)"
   ]
  },
  {
   "cell_type": "code",
   "execution_count": 117,
   "metadata": {
    "scrolled": true
   },
   "outputs": [
    {
     "data": {
      "text/plain": [
       "[44.22641706058734]"
      ]
     },
     "execution_count": 117,
     "metadata": {},
     "output_type": "execute_result"
    }
   ],
   "source": [
    "EHTVMonthPredEn"
   ]
  },
  {
   "cell_type": "markdown",
   "metadata": {},
   "source": [
    "# EHN Routine"
   ]
  },
  {
   "cell_type": "code",
   "execution_count": 129,
   "metadata": {},
   "outputs": [],
   "source": [
    "def EHNgetEnergyFromData(oceanData): # Ocean data with res = 15min\n",
    "\n",
    "#     start = timer() # BEGIN TIMER \n",
    "    everyPTHstartHminHsStart = [] # Collection of \"pair\" triples for TRS control\n",
    "    everyHTOcean = [] # Save every ocean half-tide data with res = 1 min\n",
    "    everyHTtimeMin = [] # Save every timeMin for ocean half-tide data\n",
    "    everyHTLagoon = [] # Save every lagoon half-tide data with res = 1 min\n",
    "    \n",
    "    everyHTQt = [] # Save every half-tide Qt data with res = 1 min\n",
    "    everyHTQs = [] # Save every half-tide Qs data with res = 1 min\n",
    "    everyHTPow = [] # Save every half-tide Pow data with res = 1 min\n",
    "    nextQandEn = [0, 0, 0]\n",
    "    kk = 0;\n",
    "    MonthEnTraining = 0\n",
    "    \n",
    "    StartEndHT = returStartEndHT(oceanData)\n",
    "    for first, second, third in zip(StartEndHT, StartEndHT[1:], StartEndHT[2:]):\n",
    "        jj = 0;\n",
    "        oceanMinHT1 = [] \n",
    "        while first < second: # deltaT = 15min for owlCut, HT indexed by StartEndHT \n",
    "            temp = (oceanData[first]*(15-jj)/15 + (jj/15)*oceanData[first+1])\n",
    "            oceanMinHT1.append(temp)\n",
    "            if (jj % 15 == 0 and jj != 0): # 15 minutes passed\n",
    "                jj = 0;\n",
    "                first += 1\n",
    "            jj += 1 \n",
    "        jj = 0;\n",
    "        oceanMinHT2 = [] \n",
    "        while second < third: # deltaT = 15min for owlCut, HT indexed by StartEndHT \n",
    "            temp = (oceanData[second]*(15-jj)/15 + (jj/15)*oceanData[second+1])\n",
    "            oceanMinHT2.append(temp)\n",
    "            if (jj % 15 == 0 and jj != 0): # 15 minutes passed\n",
    "                jj = 0;\n",
    "                second += 1\n",
    "            jj += 1 \n",
    "        # oceanMin contains the ocean level varying in min for ~30 consecutive days (complete half tides considered)\n",
    "        timeMin1 = np.linspace(0, len(oceanMinHT1)-1, len(oceanMinHT1)) # Time, by the minute 1st HT\n",
    "        timeMin2 = np.linspace(0, len(oceanMinHT2)-1, len(oceanMinHT2)) # Time, by the minute 2nd HT\n",
    "        # Insert oceanMinHT and timeMin data to optimization algorithim\n",
    "        if kk == 0:\n",
    "            prevQandEn = [0, 0, 0]\n",
    "            initialLagoonElev = 0 # Initial Lagoon water level for optimization\n",
    "            top = \"powerGen\" # Starting turbine operation\n",
    "            kk = 1\n",
    "        else: \n",
    "            initialLagoonElev = Lagoon1[-1]\n",
    "            top = ntop1 # Sequential turbine operation\n",
    "            prevQandEn = nextQandEn1\n",
    "        MaxEn, Lagoon1, BestConfig, Power, Qturbine, Qsluice, ntop1, nextQandEn1 = etB3(timeMin1, oceanMinHT1, timeMin2, oceanMinHT2, initialLagoonElev, top, prevQandEn)\n",
    "        MonthEnTraining += MaxEn\n",
    "        time_temp = timeMin1; ocean_temp = oceanMinHT1;\n",
    "        if (third == StartEndHT[-1]): # Means the last tide (not accounted by etB3)\n",
    "            MaxEn, Lagoon1, BestConfig, Power, Qturbine, Qsluice, ntop, nextQandEn2 = ehtB3(timeMin2, oceanMinHT2, Lagoon1[-1], ntop1, nextQandEn1)\n",
    "            MonthEnTraining += MaxEn\n",
    "            time_temp = timeMin2; ocean_temp = oceanMinHT2;\n",
    "        everyPTHstartHminHsStart.append(BestConfig)\n",
    "        everyHTOcean.append(ocean_temp) # Save every ocean half-tide data with res = 1 min\n",
    "        everyHTtimeMin.append(time_temp) # Save every timeMin for ocean half-tide data\n",
    "        everyHTLagoon.append(Lagoon) # Save every lagoon half-tide data with res = 1 min\n",
    "        everyHTQt.append(Qturbine)\n",
    "        everyHTQs.append(Qsluice)\n",
    "        everyHTPow.append(Power)\n",
    "    \n",
    "    return MonthEnTraining, everyHTLagoon, everyHTtimeMin, everyHTOcean, everyHTQt, everyHTQs, everyHTPow, everyHTHstartHminHsStart"
   ]
  },
  {
   "cell_type": "markdown",
   "metadata": {},
   "source": [
    "Get Upper Bound estimate (perfect forecast scenario) for EHN method"
   ]
  },
  {
   "cell_type": "code",
   "execution_count": null,
   "metadata": {},
   "outputs": [],
   "source": [
    "nextQandEn = [0, 0, 0]\n",
    "EHNUpperBoundEn = []; EHNUpperBoundLagoon = []; EHNUpperBoundTime = []; EHNUpperBoundOcean = []; EHNUpperBoundStrategy = []\n",
    "EHNUpperBoundQt = []; EHNUpperBoundQs = []; EHNUpperBoundPow = []\n",
    "for Data in range(1,27):\n",
    "    owl_r, owl_pb, timeMin, owl_r_15, owl_pb_15 = GetDataBODC(Data)\n",
    "    BODCMonthEn, LagoonBODC, time, OceanBODC, everyHTQt, everyHTQs, everyHTPow, everyHTHstartHminHsStart = EHNgetEnergyFromData(owl_r_15)\n",
    "    EHNUpperBoundEn.append(BODCMonthEn/(3.6*10**6)) # GWh\n",
    "    EHNUpperBoundLagoon.append(LagoonBODC)\n",
    "    EHNUpperBoundTime.append(time)\n",
    "    EHNUpperBoundOcean.append(OceanBODC)\n",
    "    EHNUpperBoundQt.append(everyHTQt)\n",
    "    EHNUpperBoundQs.append(everyHTQs)\n",
    "    EHNUpperBoundPow.append(everyHTPow)\n",
    "    EHNUpperBoundStrategy.append(everyHTHstartHminHsStart)"
   ]
  },
  {
   "cell_type": "code",
   "execution_count": 130,
   "metadata": {},
   "outputs": [],
   "source": [
    "owl_r, owl_pb, timeMin, owl_r_15, owl_pb_15 = GetDataBODC(1)\n",
    "BODCMonthEn, LagoonBODC, time, OceanBODC, everyHTQt, everyHTQs, everyHTPow, everyHTHstartHminHsStart = EHNgetEnergyFromData(owl_r_15)"
   ]
  },
  {
   "cell_type": "code",
   "execution_count": 132,
   "metadata": {},
   "outputs": [
    {
     "data": {
      "text/plain": [
       "44.04746036088523"
      ]
     },
     "execution_count": 132,
     "metadata": {},
     "output_type": "execute_result"
    }
   ],
   "source": [
    "BODCMonthEn/(3.6*10**6)"
   ]
  },
  {
   "cell_type": "markdown",
   "metadata": {},
   "source": [
    "Get Actual Bound (Real-Time) estimate when using a whole month of tidal prediction data"
   ]
  },
  {
   "cell_type": "code",
   "execution_count": 133,
   "metadata": {},
   "outputs": [],
   "source": [
    "def EHNapplyBestConfigToBODC(everyHTtimeMin, everyHTOcean, BestConfig):\n",
    "\n",
    "    kk = 0\n",
    "    ii = 0\n",
    "    MonthEn = 0\n",
    "    everyHTPower = [];\n",
    "    everyHTQturbine = [];\n",
    "    everyHTQsluice = [];\n",
    "    everyHTLagoon = [];\n",
    "    for oceanMin in everyHTOcean:\n",
    "        timeMin = everyHTtimeMin[ii]\n",
    "        HtStart = BestConfig[ii][0]\n",
    "        HtMin   = BestConfig[ii][1]\n",
    "        if kk == 0:\n",
    "            prevQandEn = [0, 0, 0]\n",
    "            initialLagoonElev = 0 # Initial Lagoon water level for optimization\n",
    "            top = \"powerGen\" # Starting turbine operation\n",
    "            sop = \"holding\" # Starting sluice operation\n",
    "            kk = 1\n",
    "        else: \n",
    "            initialLagoonElev = Lagoon[-1]\n",
    "            top = ntop # Sequential turbine operation\n",
    "            prevQandEn = nextQandEn;\n",
    "            \n",
    "        Lagoon, Power, Qturbine, Qsluice, EnSum, ntop, nextQandEn = TidalLagoonOPB3(HtStart, HtMin, timeMin, oceanMin, initialLagoonElev, top, prevQandEn)\n",
    "        everyHTPower.append(Power);\n",
    "        everyHTQturbine.append(Qturbine);\n",
    "        everyHTQsluice.append(Qsluice);\n",
    "        everyHTLagoon.append(Lagoon)\n",
    "        MonthEn += EnSum\n",
    "        ii+=1\n",
    "    return MonthEn, everyHTLagoon, everyHTPower, everyHTQturbine, everyHTQsluice"
   ]
  },
  {
   "cell_type": "code",
   "execution_count": 134,
   "metadata": {},
   "outputs": [],
   "source": [
    "# Fixed Hstart with conditioning\n",
    "nextQandEn = [0, 0, 0]\n",
    "EHNMonthPredEn = []; EHNMonthPredLagoon = []; EHNMonthPredTime = []; EHNMonthPredOcean = []; EHNMonthPredStrategy = []\n",
    "EHNMonthPredQt = []; EHNMonthPredQs = []; EHNMonthPredPow = []\n",
    "for Data in range(1,3): # Get results for 26 months (pre-processed)\n",
    "    owl_r, owl_pb, timeMin, owl_r_15, owl_pb_15 = GetDataBODC(Data)\n",
    "    TrainEnergy, _, _, _, _, _, _, everyHTHstartHmin = EHNgetEnergyFromData(owl_pb_15) # Get strategy from BODC prediction\n",
    "    \n",
    "    StartEndHT = returStartEndHT(owl_pb_15) # Get half-tides estimate from BODC data\n",
    "\n",
    "    oceanData = owl_r_15\n",
    "    everyHTtimeMin = []; everyHTOcean = []\n",
    "    for first, second in zip(StartEndHT, StartEndHT[1:]):\n",
    "        jj = 0;\n",
    "        oceanMinHT = [] \n",
    "        while first < second: # deltaT = 15min for owlCut, HT indexed by StartEndHT \n",
    "            temp = (oceanData[first]*(15-jj)/15 + (jj/15)*oceanData[first+1])\n",
    "            oceanMinHT.append(temp)\n",
    "            if (jj % 15 == 0 and jj != 0): # 15 minutes passed\n",
    "                jj = 0;\n",
    "                first += 1\n",
    "            jj += 1 \n",
    "        # oceanMinHT contains the ocean level varying in min for ~30 consecutive days (complete half tides considered)\n",
    "        timeMin = np.linspace(0, len(oceanMinHT)-1, len(oceanMinHT)) # Time, by the minute\n",
    "        everyHTOcean.append(oceanMinHT) # Save every ocean half-tide data with res = 1 min\n",
    "        everyHTtimeMin.append(timeMin) # Save every timeMin for ocean half-tide data\n",
    "    EHNSwansea_np, everyHTLagoon, everyHTPower, everyHTQturbine, everyHTQsluice = EHNapplyBestConfigToBODC(everyHTtimeMin, everyHTOcean, everyHTHstartHmin)\n",
    "    EHNMonthPredEn.append(EHTSwansea_np/(3.6*10**6)) # GWh\n",
    "    EHNMonthPredLagoon.append(everyHTLagoon)\n",
    "    EHNMonthPredTime.append(timeMin)\n",
    "    EHNMonthPredOcean.append(everyHTOcean)\n",
    "    EHNMonthPredQt.append(everyHTQturbine)\n",
    "    EHNMonthPredQs.append(everyHTQsluice)\n",
    "    EHNMonthPredPow.append(everyHTPower)\n",
    "    EHNMonthPredStrategy.append(everyHTHstartHmin)"
   ]
  },
  {
   "cell_type": "code",
   "execution_count": 135,
   "metadata": {},
   "outputs": [
    {
     "data": {
      "text/plain": [
       "[41.65981701137445, 41.65981701137445]"
      ]
     },
     "execution_count": 135,
     "metadata": {},
     "output_type": "execute_result"
    }
   ],
   "source": [
    "EHNMonthPredEn"
   ]
  },
  {
   "cell_type": "code",
   "execution_count": null,
   "metadata": {},
   "outputs": [],
   "source": [
    "las = 35\n",
    "les = 18\n",
    "lax = 30\n",
    "\n",
    "fig, ax = plt.subplots(figsize=[12,8])\n",
    "# ax.plot(UpperBoundEn, 'x', color = 'blue', label = 'UpperBound (pred = meas)')\n",
    "ax.plot(UbOcean, 'x', color = 'black', label = ' UpperBound (Ocean Engineering)')\n",
    "# ax.plot(en_DRL, 'v', color = 'orange', label = ' DRL Agent')\n",
    "en_DRL\n",
    "ax.plot(LowerBoundEnN, 'x', color = 'green', label = 'Hstart Corrected Actual Bound')\n",
    "# ax.plot(LowerBoundEn, 'x', color = 'red', label = 'Uncorrected Actual Bound')\n",
    "# ax.plot(NewLb, 'x', color = 'red', label = ' New LowerBound (pred = meas)')\n",
    "\n",
    "# ax.plot(Lb_c, 'v', color = 'green', label = 'LowerBound with Hstart*.95')\n",
    "ax.plot(en_DRL, 'v', color = 'red', label = 'DRL Operation')\n",
    "plt.xlabel('Sample Month', fontsize = las)\n",
    "plt.ylabel('EHTV Energy (GWh) \\n No Pump', fontsize = las)\n",
    "plt.ylim(38, 53)\n",
    "plt.yticks(fontsize=lax)\n",
    "plt.xticks(fontsize=lax)\n",
    "# ax.locator_params(axis='y', nbins=10)\n",
    "\n",
    "# Set number of ticks for x-axis\n",
    "\n",
    "# Set ticks labels for x-axis\n",
    "# ax.set_xticklabels(x_ticks_labels, rotation='vertical', fontsize=lax)\n",
    "\n",
    "# plt.xaxis.get_major_ticks()\n",
    "plt.legend(fontsize = les, facecolor='white', framealpha=1)\n",
    "plt.show()"
   ]
  }
 ],
 "metadata": {
  "kernelspec": {
   "display_name": "Python 3",
   "language": "python",
   "name": "python3"
  },
  "language_info": {
   "codemirror_mode": {
    "name": "ipython",
    "version": 3
   },
   "file_extension": ".py",
   "mimetype": "text/x-python",
   "name": "python",
   "nbconvert_exporter": "python",
   "pygments_lexer": "ipython3",
   "version": "3.8.3"
  }
 },
 "nbformat": 4,
 "nbformat_minor": 4
}
